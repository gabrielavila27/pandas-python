{
 "cells": [
  {
   "cell_type": "code",
   "execution_count": null,
   "metadata": {},
   "outputs": [],
   "source": [
    "%pip install pandas"
   ]
  },
  {
   "cell_type": "markdown",
   "metadata": {},
   "source": [
    "<h2>Dataset display</h2>"
   ]
  },
  {
   "cell_type": "code",
   "execution_count": 4,
   "metadata": {},
   "outputs": [
    {
     "data": {
      "text/html": [
       "<div>\n",
       "<style scoped>\n",
       "    .dataframe tbody tr th:only-of-type {\n",
       "        vertical-align: middle;\n",
       "    }\n",
       "\n",
       "    .dataframe tbody tr th {\n",
       "        vertical-align: top;\n",
       "    }\n",
       "\n",
       "    .dataframe thead th {\n",
       "        text-align: right;\n",
       "    }\n",
       "</style>\n",
       "<table border=\"1\" class=\"dataframe\">\n",
       "  <thead>\n",
       "    <tr style=\"text-align: right;\">\n",
       "      <th></th>\n",
       "      <th>Rank</th>\n",
       "      <th>Username</th>\n",
       "      <th>Categories</th>\n",
       "      <th>Suscribers</th>\n",
       "      <th>Country</th>\n",
       "      <th>Visits</th>\n",
       "      <th>Likes</th>\n",
       "      <th>Comments</th>\n",
       "      <th>Links</th>\n",
       "    </tr>\n",
       "  </thead>\n",
       "  <tbody>\n",
       "    <tr>\n",
       "      <th>0</th>\n",
       "      <td>1</td>\n",
       "      <td>tseries</td>\n",
       "      <td>Música y baile</td>\n",
       "      <td>249500000.0</td>\n",
       "      <td>India</td>\n",
       "      <td>86200.0</td>\n",
       "      <td>2700.0</td>\n",
       "      <td>78.0</td>\n",
       "      <td>http://youtube.com/channel/UCq-Fj5jknLsUf-MWSy...</td>\n",
       "    </tr>\n",
       "    <tr>\n",
       "      <th>1</th>\n",
       "      <td>2</td>\n",
       "      <td>MrBeast</td>\n",
       "      <td>Videojuegos, Humor</td>\n",
       "      <td>183500000.0</td>\n",
       "      <td>Estados Unidos</td>\n",
       "      <td>117400000.0</td>\n",
       "      <td>5300000.0</td>\n",
       "      <td>18500.0</td>\n",
       "      <td>http://youtube.com/channel/UCX6OQ3DkcsbYNE6H8u...</td>\n",
       "    </tr>\n",
       "    <tr>\n",
       "      <th>2</th>\n",
       "      <td>3</td>\n",
       "      <td>CoComelon</td>\n",
       "      <td>Educación</td>\n",
       "      <td>165500000.0</td>\n",
       "      <td>Unknown</td>\n",
       "      <td>7000000.0</td>\n",
       "      <td>24700.0</td>\n",
       "      <td>0.0</td>\n",
       "      <td>http://youtube.com/channel/UCbCmjCuTUZos6Inko4...</td>\n",
       "    </tr>\n",
       "    <tr>\n",
       "      <th>3</th>\n",
       "      <td>4</td>\n",
       "      <td>SETIndia</td>\n",
       "      <td>NaN</td>\n",
       "      <td>162600000.0</td>\n",
       "      <td>India</td>\n",
       "      <td>15600.0</td>\n",
       "      <td>166.0</td>\n",
       "      <td>9.0</td>\n",
       "      <td>http://youtube.com/channel/UCpEhnqL0y41EpW2TvW...</td>\n",
       "    </tr>\n",
       "    <tr>\n",
       "      <th>4</th>\n",
       "      <td>5</td>\n",
       "      <td>KidsDianaShow</td>\n",
       "      <td>Animación, Juguetes</td>\n",
       "      <td>113500000.0</td>\n",
       "      <td>Unknown</td>\n",
       "      <td>3900000.0</td>\n",
       "      <td>12400.0</td>\n",
       "      <td>0.0</td>\n",
       "      <td>http://youtube.com/channel/UCk8GzjMOrta8yxDcKf...</td>\n",
       "    </tr>\n",
       "    <tr>\n",
       "      <th>5</th>\n",
       "      <td>6</td>\n",
       "      <td>PewDiePie</td>\n",
       "      <td>Películas, Videojuegos</td>\n",
       "      <td>111500000.0</td>\n",
       "      <td>Estados Unidos</td>\n",
       "      <td>2400000.0</td>\n",
       "      <td>197300.0</td>\n",
       "      <td>4900.0</td>\n",
       "      <td>http://youtube.com/channel/UC-lHJZR3Gqxm24_Vd_...</td>\n",
       "    </tr>\n",
       "    <tr>\n",
       "      <th>6</th>\n",
       "      <td>7</td>\n",
       "      <td>LikeNastyaofficial</td>\n",
       "      <td>Juguetes</td>\n",
       "      <td>107500000.0</td>\n",
       "      <td>Unknown</td>\n",
       "      <td>2600000.0</td>\n",
       "      <td>28000.0</td>\n",
       "      <td>0.0</td>\n",
       "      <td>http://youtube.com/channel/UCJplp5SjeGSdVdwsfb...</td>\n",
       "    </tr>\n",
       "    <tr>\n",
       "      <th>7</th>\n",
       "      <td>8</td>\n",
       "      <td>VladandNiki</td>\n",
       "      <td>Animación, Juguetes</td>\n",
       "      <td>101400000.0</td>\n",
       "      <td>Unknown</td>\n",
       "      <td>4100000.0</td>\n",
       "      <td>22100.0</td>\n",
       "      <td>0.0</td>\n",
       "      <td>http://youtube.com/channel/UCvlE5gTbOvjiolFlEm...</td>\n",
       "    </tr>\n",
       "    <tr>\n",
       "      <th>8</th>\n",
       "      <td>9</td>\n",
       "      <td>zeemusiccompany</td>\n",
       "      <td>Música y baile</td>\n",
       "      <td>99700000.0</td>\n",
       "      <td>India</td>\n",
       "      <td>74300.0</td>\n",
       "      <td>2600.0</td>\n",
       "      <td>32.0</td>\n",
       "      <td>http://youtube.com/channel/UCFFbwnve3yF62-tVXk...</td>\n",
       "    </tr>\n",
       "    <tr>\n",
       "      <th>9</th>\n",
       "      <td>10</td>\n",
       "      <td>WWE</td>\n",
       "      <td>Videojuegos</td>\n",
       "      <td>97200000.0</td>\n",
       "      <td>Estados Unidos</td>\n",
       "      <td>184500.0</td>\n",
       "      <td>6300.0</td>\n",
       "      <td>214.0</td>\n",
       "      <td>http://youtube.com/channel/UCJ5v_MCY6GNUBTO8-D...</td>\n",
       "    </tr>\n",
       "  </tbody>\n",
       "</table>\n",
       "</div>"
      ],
      "text/plain": [
       "   Rank            Username              Categories   Suscribers  \\\n",
       "0     1             tseries          Música y baile  249500000.0   \n",
       "1     2             MrBeast      Videojuegos, Humor  183500000.0   \n",
       "2     3           CoComelon               Educación  165500000.0   \n",
       "3     4            SETIndia                     NaN  162600000.0   \n",
       "4     5       KidsDianaShow     Animación, Juguetes  113500000.0   \n",
       "5     6           PewDiePie  Películas, Videojuegos  111500000.0   \n",
       "6     7  LikeNastyaofficial                Juguetes  107500000.0   \n",
       "7     8         VladandNiki     Animación, Juguetes  101400000.0   \n",
       "8     9     zeemusiccompany          Música y baile   99700000.0   \n",
       "9    10                 WWE             Videojuegos   97200000.0   \n",
       "\n",
       "          Country       Visits      Likes  Comments  \\\n",
       "0           India      86200.0     2700.0      78.0   \n",
       "1  Estados Unidos  117400000.0  5300000.0   18500.0   \n",
       "2         Unknown    7000000.0    24700.0       0.0   \n",
       "3           India      15600.0      166.0       9.0   \n",
       "4         Unknown    3900000.0    12400.0       0.0   \n",
       "5  Estados Unidos    2400000.0   197300.0    4900.0   \n",
       "6         Unknown    2600000.0    28000.0       0.0   \n",
       "7         Unknown    4100000.0    22100.0       0.0   \n",
       "8           India      74300.0     2600.0      32.0   \n",
       "9  Estados Unidos     184500.0     6300.0     214.0   \n",
       "\n",
       "                                               Links  \n",
       "0  http://youtube.com/channel/UCq-Fj5jknLsUf-MWSy...  \n",
       "1  http://youtube.com/channel/UCX6OQ3DkcsbYNE6H8u...  \n",
       "2  http://youtube.com/channel/UCbCmjCuTUZos6Inko4...  \n",
       "3  http://youtube.com/channel/UCpEhnqL0y41EpW2TvW...  \n",
       "4  http://youtube.com/channel/UCk8GzjMOrta8yxDcKf...  \n",
       "5  http://youtube.com/channel/UC-lHJZR3Gqxm24_Vd_...  \n",
       "6  http://youtube.com/channel/UCJplp5SjeGSdVdwsfb...  \n",
       "7  http://youtube.com/channel/UCvlE5gTbOvjiolFlEm...  \n",
       "8  http://youtube.com/channel/UCFFbwnve3yF62-tVXk...  \n",
       "9  http://youtube.com/channel/UCJ5v_MCY6GNUBTO8-D...  "
      ]
     },
     "metadata": {},
     "output_type": "display_data"
    },
    {
     "name": "stdout",
     "output_type": "stream",
     "text": [
      "The number of columns and rows in this dataset is (1000, 9)\n"
     ]
    }
   ],
   "source": [
    "import pandas as pd\n",
    "\n",
    "yt_df = pd.read_csv('dataset_youtube/archive/youtubers_df.csv')\n",
    "\n",
    "#display the first 10 elements\n",
    "display(yt_df.head(10))\n",
    "\n",
    "#shape shows the number of rows and columns in the dataset\n",
    "print(f'The number of columns and rows in this dataset is {yt_df.shape}')\n",
    "\n",
    "\n"
   ]
  },
  {
   "cell_type": "markdown",
   "metadata": {},
   "source": [
    "## Top 10 youtubers with the most subscribers"
   ]
  },
  {
   "cell_type": "code",
   "execution_count": 5,
   "metadata": {},
   "outputs": [
    {
     "data": {
      "text/plain": [
       "0               tseries\n",
       "1               MrBeast\n",
       "2             CoComelon\n",
       "3              SETIndia\n",
       "4         KidsDianaShow\n",
       "5             PewDiePie\n",
       "6    LikeNastyaofficial\n",
       "7           VladandNiki\n",
       "8       zeemusiccompany\n",
       "9                   WWE\n",
       "Name: Username, dtype: object"
      ]
     },
     "metadata": {},
     "output_type": "display_data"
    }
   ],
   "source": [
    "username_series = yt_df['Username']\n",
    "display(username_series.head(10))"
   ]
  },
  {
   "cell_type": "markdown",
   "metadata": {},
   "source": [
    "<h2>Type of content made by youtubers with more than 100.000.000 subscribers<h2>"
   ]
  },
  {
   "cell_type": "code",
   "execution_count": 7,
   "metadata": {},
   "outputs": [
    {
     "data": {
      "text/html": [
       "<div>\n",
       "<style scoped>\n",
       "    .dataframe tbody tr th:only-of-type {\n",
       "        vertical-align: middle;\n",
       "    }\n",
       "\n",
       "    .dataframe tbody tr th {\n",
       "        vertical-align: top;\n",
       "    }\n",
       "\n",
       "    .dataframe thead th {\n",
       "        text-align: right;\n",
       "    }\n",
       "</style>\n",
       "<table border=\"1\" class=\"dataframe\">\n",
       "  <thead>\n",
       "    <tr style=\"text-align: right;\">\n",
       "      <th></th>\n",
       "      <th>Categories</th>\n",
       "    </tr>\n",
       "  </thead>\n",
       "  <tbody>\n",
       "    <tr>\n",
       "      <th>0</th>\n",
       "      <td>Música y baile</td>\n",
       "    </tr>\n",
       "    <tr>\n",
       "      <th>1</th>\n",
       "      <td>Videojuegos, Humor</td>\n",
       "    </tr>\n",
       "    <tr>\n",
       "      <th>2</th>\n",
       "      <td>Educación</td>\n",
       "    </tr>\n",
       "    <tr>\n",
       "      <th>3</th>\n",
       "      <td>NaN</td>\n",
       "    </tr>\n",
       "    <tr>\n",
       "      <th>4</th>\n",
       "      <td>Animación, Juguetes</td>\n",
       "    </tr>\n",
       "    <tr>\n",
       "      <th>5</th>\n",
       "      <td>Películas, Videojuegos</td>\n",
       "    </tr>\n",
       "    <tr>\n",
       "      <th>6</th>\n",
       "      <td>Juguetes</td>\n",
       "    </tr>\n",
       "    <tr>\n",
       "      <th>7</th>\n",
       "      <td>Animación, Juguetes</td>\n",
       "    </tr>\n",
       "  </tbody>\n",
       "</table>\n",
       "</div>"
      ],
      "text/plain": [
       "               Categories\n",
       "0          Música y baile\n",
       "1      Videojuegos, Humor\n",
       "2               Educación\n",
       "3                     NaN\n",
       "4     Animación, Juguetes\n",
       "5  Películas, Videojuegos\n",
       "6                Juguetes\n",
       "7     Animación, Juguetes"
      ]
     },
     "metadata": {},
     "output_type": "display_data"
    }
   ],
   "source": [
    "#loc[rows, cloumns]\n",
    "plus_five_million_content = yt_df.loc[yt_df['Suscribers'] >= 100000000, ['Categories']]\n",
    "display(plus_five_million_content)"
   ]
  },
  {
   "cell_type": "markdown",
   "metadata": {},
   "source": [
    "## Youtuber with the highest avarage comments"
   ]
  },
  {
   "cell_type": "code",
   "execution_count": 29,
   "metadata": {},
   "outputs": [
    {
     "data": {
      "text/html": [
       "<div>\n",
       "<style scoped>\n",
       "    .dataframe tbody tr th:only-of-type {\n",
       "        vertical-align: middle;\n",
       "    }\n",
       "\n",
       "    .dataframe tbody tr th {\n",
       "        vertical-align: top;\n",
       "    }\n",
       "\n",
       "    .dataframe thead th {\n",
       "        text-align: right;\n",
       "    }\n",
       "</style>\n",
       "<table border=\"1\" class=\"dataframe\">\n",
       "  <thead>\n",
       "    <tr style=\"text-align: right;\">\n",
       "      <th></th>\n",
       "      <th>Username</th>\n",
       "      <th>Categories</th>\n",
       "      <th>Country</th>\n",
       "      <th>Comments</th>\n",
       "    </tr>\n",
       "  </thead>\n",
       "  <tbody>\n",
       "    <tr>\n",
       "      <th>436</th>\n",
       "      <td>BispoBrunoLeonardo</td>\n",
       "      <td>Música y baile</td>\n",
       "      <td>Brasil</td>\n",
       "      <td>154000.0</td>\n",
       "    </tr>\n",
       "  </tbody>\n",
       "</table>\n",
       "</div>"
      ],
      "text/plain": [
       "               Username      Categories Country  Comments\n",
       "436  BispoBrunoLeonardo  Música y baile  Brasil  154000.0"
      ]
     },
     "metadata": {},
     "output_type": "display_data"
    }
   ],
   "source": [
    "most_commented = yt_df['Comments'].max()\n",
    "yt_yt_most_commented = yt_df.loc[yt_df['Comments'] == most_commented, ['Username', 'Categories', 'Country', 'Comments']]\n",
    "display(yt_yt_most_commented)"
   ]
  },
  {
   "cell_type": "code",
   "execution_count": 31,
   "metadata": {},
   "outputs": [
    {
     "data": {
      "text/plain": [
       "Rank                                                        437\n",
       "Username                                     BispoBrunoLeonardo\n",
       "Categories                                       Música y baile\n",
       "Suscribers                                           18000000.0\n",
       "Country                                                  Brasil\n",
       "Visits                                                 762100.0\n",
       "Likes                                                  276400.0\n",
       "Comments                                               154000.0\n",
       "Links         http://youtube.com/channel/UCVNouUw3d3l5JYVCxh...\n",
       "Name: 436, dtype: object"
      ]
     },
     "metadata": {},
     "output_type": "display_data"
    }
   ],
   "source": [
    "most_commented = yt_df['Comments'].idxmax()\n",
    "yt_most_commented = yt_df.loc[most_commented]\n",
    "display(yt_most_commented)"
   ]
  },
  {
   "cell_type": "markdown",
   "metadata": {},
   "source": [
    "## Youtuber with the highest average likes"
   ]
  },
  {
   "cell_type": "code",
   "execution_count": 30,
   "metadata": {},
   "outputs": [
    {
     "data": {
      "text/plain": [
       "Rank                                                          2\n",
       "Username                                                MrBeast\n",
       "Categories                                   Videojuegos, Humor\n",
       "Suscribers                                          183500000.0\n",
       "Country                                          Estados Unidos\n",
       "Visits                                              117400000.0\n",
       "Likes                                                 5300000.0\n",
       "Comments                                                18500.0\n",
       "Links         http://youtube.com/channel/UCX6OQ3DkcsbYNE6H8u...\n",
       "Name: 1, dtype: object"
      ]
     },
     "metadata": {},
     "output_type": "display_data"
    }
   ],
   "source": [
    "most_liked = yt_df['Likes'].idxmax()\n",
    "yt_yt_most_liked = yt_df.loc[most_liked]\n",
    "display(yt_yt_most_liked)"
   ]
  },
  {
   "cell_type": "markdown",
   "metadata": {},
   "source": [
    "## Youtuber with the highest average visits"
   ]
  },
  {
   "cell_type": "code",
   "execution_count": 37,
   "metadata": {},
   "outputs": [
    {
     "data": {
      "text/plain": [
       "Rank                                                          2\n",
       "Username                                                MrBeast\n",
       "Categories                                   Videojuegos, Humor\n",
       "Suscribers                                          183500000.0\n",
       "Country                                          Estados Unidos\n",
       "Visits                                              117400000.0\n",
       "Likes                                                 5300000.0\n",
       "Comments                                                18500.0\n",
       "Links         http://youtube.com/channel/UCX6OQ3DkcsbYNE6H8u...\n",
       "Name: 1, dtype: object"
      ]
     },
     "metadata": {},
     "output_type": "display_data"
    }
   ],
   "source": [
    "most_visited = yt_df['Visits'].idxmax()\n",
    "yt_most_visited = yt_df.loc[most_visited]\n",
    "display(yt_most_visited)"
   ]
  }
 ],
 "metadata": {
  "kernelspec": {
   "display_name": "Python 3",
   "language": "python",
   "name": "python3"
  },
  "language_info": {
   "codemirror_mode": {
    "name": "ipython",
    "version": 3
   },
   "file_extension": ".py",
   "mimetype": "text/x-python",
   "name": "python",
   "nbconvert_exporter": "python",
   "pygments_lexer": "ipython3",
   "version": "3.11.4"
  },
  "orig_nbformat": 4
 },
 "nbformat": 4,
 "nbformat_minor": 2
}
